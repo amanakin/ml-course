{
 "cells": [
  {
   "cell_type": "markdown",
   "metadata": {
    "pycharm": {
     "name": "#%% md\n"
    }
   },
   "source": [
    "*Credits: materials from this notebook belong to YSDA [Practical DL](https://github.com/yandexdataschool/Practical_DL) course. Special thanks for making them available online.*"
   ]
  },
  {
   "cell_type": "markdown",
   "metadata": {
    "pycharm": {
     "name": "#%% md\n"
    }
   },
   "source": [
    "# Lab assignment №1, part 1\n",
    "\n",
    "This lab assignment consists of several parts. You are supposed to make some transformations, train some models, estimate the quality of the models and explain your results.\n",
    "\n",
    "Several comments:\n",
    "* Don't hesitate to ask questions, it's a good practice.\n",
    "* No private/public sharing, please. The copied assignments will be graded with 0 points.\n",
    "* Blocks of this lab will be graded separately."
   ]
  },
  {
   "cell_type": "markdown",
   "metadata": {
    "pycharm": {
     "name": "#%% md\n"
    }
   },
   "source": [
    "## 1. Matrix differentiation"
   ]
  },
  {
   "cell_type": "markdown",
   "metadata": {
    "pycharm": {
     "name": "#%% md\n"
    }
   },
   "source": [
    "Since it easy to google every task please please please try to undestand what's going on. The \"just answer\" thing will be not counted, make sure to present derivation of your solution. It is absolutely OK if you found an answer on web then just exercise in $\\LaTeX$ copying it into here."
   ]
  },
  {
   "cell_type": "markdown",
   "metadata": {
    "pycharm": {
     "name": "#%% md\n"
    }
   },
   "source": [
    "Useful links: \n",
    "[1](http://www.machinelearning.ru/wiki/images/2/2a/Matrix-Gauss.pdf)\n",
    "[2](http://www.atmos.washington.edu/~dennis/MatrixCalculus.pdf)"
   ]
  },
  {
   "cell_type": "markdown",
   "metadata": {
    "pycharm": {
     "name": "#%% md\n"
    }
   },
   "source": [
    "## ex. 1"
   ]
  },
  {
   "cell_type": "markdown",
   "metadata": {
    "pycharm": {
     "name": "#%% md\n"
    }
   },
   "source": [
    "$$  \n",
    "y = x^Tx,  \\quad x \\in \\mathbb{R}^N \n",
    "$$"
   ]
  },
  {
   "cell_type": "markdown",
   "metadata": {
    "pycharm": {
     "name": "#%% md\n"
    }
   },
   "source": [
    "$$\n",
    "\\frac{dy}{dx_i} = \\frac{d\\sum\\limits_{i=1}^N x_i^2}{dx_i} = \\frac{\\sum\\limits_{i=1}^N dx_i^2}{dx_i} = 2x_i\n",
    "$$\n",
    "\n",
    "$$\n",
    "\\frac{dy}{dx} = \\frac{}{} = 2x\n",
    "$$"
   ]
  },
  {
   "cell_type": "markdown",
   "metadata": {
    "pycharm": {
     "name": "#%% md\n"
    }
   },
   "source": [
    "## ex. 2"
   ]
  },
  {
   "cell_type": "markdown",
   "metadata": {
    "pycharm": {
     "name": "#%% md\n"
    }
   },
   "source": [
    "$$ y = tr(AB) \\quad A,B \\in \\mathbb{R}^{N \\times N} $$ "
   ]
  },
  {
   "cell_type": "markdown",
   "metadata": {
    "pycharm": {
     "name": "#%% md\n"
    }
   },
   "source": [
    "$$\n",
    "\\frac{dy}{da_{ij}} = \\frac{d\\sum\\limits_{i=1}^N \\sum\\limits_{j=1}^N a_{ij}b_{ji}}{da_{ij}} = b_{ji}\n",
    "$$\n",
    "\n",
    "$$\n",
    "\\frac{dy}{dA} = B^T\n",
    "$$"
   ]
  },
  {
   "cell_type": "markdown",
   "metadata": {
    "pycharm": {
     "name": "#%% md\n"
    }
   },
   "source": [
    "## ex. 3"
   ]
  },
  {
   "cell_type": "markdown",
   "metadata": {
    "pycharm": {
     "name": "#%% md\n"
    }
   },
   "source": [
    "$$  \n",
    "y = x^TAc , \\quad A\\in \\mathbb{R}^{N \\times N}, x\\in \\mathbb{R}^{N}, c\\in \\mathbb{R}^{N} \n",
    "$$"
   ]
  },
  {
   "cell_type": "markdown",
   "metadata": {
    "pycharm": {
     "name": "#%% md\n"
    }
   },
   "source": [
    "$$\n",
    "y \\in \\mathbb{R} = \\mathbb{R}^{1 \\times 1}\n",
    "$$\n",
    "\n",
    "\n",
    "$$\n",
    "\\frac{dy}{dx} = \\frac{d(tr(x^TAc))}{dx} = \\frac{d(tr(x^TAc)^T)}{dx} = \\frac{d(tr((Ac)^Tx))}{dx} = Ac\n",
    "$$\n",
    "Последнее равенство получено аналогично предыдущему пункту, если вместо матриц взял вектора."
   ]
  },
  {
   "cell_type": "markdown",
   "metadata": {
    "pycharm": {
     "name": "#%% md\n"
    }
   },
   "source": [
    "$$\n",
    "\\frac{dy}{dA} = \\frac{d(tr(x^TAc))}{dA} = \\frac{d(tr(cx^TA))}{dA} = (cx^T)^T = xc^T\n",
    "$$ "
   ]
  },
  {
   "cell_type": "markdown",
   "metadata": {
    "pycharm": {
     "name": "#%% md\n"
    }
   },
   "source": [
    "Hint for the latter (one of the ways): use *ex. 2* result and the fact \n",
    "$$\n",
    "tr(ABC) = tr (CAB)\n",
    "$$"
   ]
  },
  {
   "cell_type": "markdown",
   "metadata": {
    "pycharm": {
     "name": "#%% md\n"
    }
   },
   "source": [
    "## ex. 4"
   ]
  },
  {
   "cell_type": "markdown",
   "metadata": {
    "pycharm": {
     "name": "#%% md\n"
    }
   },
   "source": [
    "Classic matrix factorization example. Given matrix $X$ you need to find $A$, $S$ to approximate $X$. This can be done by simple gradient descent iteratively alternating $A$ and $S$ updates.\n",
    "$$\n",
    "J = || X - AS ||_F^2  , \\quad A\\in \\mathbb{R}^{N \\times R} , \\quad S\\in \\mathbb{R}^{R \\times M}\n",
    "$$\n",
    "$$\n",
    "\\frac{dJ}{dS} = ? \n",
    "$$\n",
    "\n",
    "You may use one of the following approaches:"
   ]
  },
  {
   "cell_type": "markdown",
   "metadata": {
    "pycharm": {
     "name": "#%% md\n"
    }
   },
   "source": [
    "#### First approach\n",
    "Using ex.2 and the fact:\n",
    "$$\n",
    "|| X ||_F^2 = tr(XX^T) \n",
    "$$ \n",
    "it is easy to derive gradients (you can find it in one of the refs).\n",
    "\n",
    "$$\n",
    "X \\in \\mathbb{R}^{N \\times M}\n",
    "$$\n",
    "\n",
    "$$\n",
    "\\frac{d(tr((XS^TA^T)))}{dS} = \\frac{d(tr((XS^TA^T)^T))}{dS} = \\frac{d(tr(ASX^T))}{dS}\n",
    "$$\n",
    "\n",
    "$$\n",
    "\\frac{d(tr(ASS^TA^T))}{dS} = \\frac{d(tr(SS^TA^TA))}{dS} = \\frac{d(tr(SS^TA^TA))}{dSS^T} \\cdot \\frac{dSS^T}{S} = (A^TA)^T \\cdot 2S = 2A^TAS\n",
    "$$\n",
    "\n",
    "$$\n",
    "\\frac{dJ}{dS} = \\frac{d(tr((X-AS)(X-AS)^T))}{dS} = \\frac{d(tr(XX^T) - tr(ASX^T) - tr(XS^TA^T) + tr(ASS^TA^T))}{dS} = \\\\\n",
    "-2\\frac{d(tr(X^TAS))}{dS} + \\frac{d(tr(ASS^TA^T))}{dS} = -2(X^TA)^T + 2A^TAS = 2A^T(AS - X)\n",
    "$$"
   ]
  },
  {
   "cell_type": "markdown",
   "metadata": {
    "pycharm": {
     "name": "#%% md\n"
    }
   },
   "source": [
    "›#### Second approach\n",
    "You can use *slightly different techniques* if they suits you. Take a look at this derivation:\n",
    "<img src=\"grad.png\">\n",
    "(excerpt from [Handbook of blind source separation, Jutten, page 517](https://books.google.ru/books?id=PTbj03bYH6kC&printsec=frontcover&dq=Handbook+of+Blind+Source+Separation&hl=en&sa=X&ved=0ahUKEwi-q_apiJDLAhULvXIKHVXJDWcQ6AEIHDAA#v=onepage&q=Handbook%20of%20Blind%20Source%20Separation&f=false), open for better picture)."
   ]
  },
  {
   "cell_type": "markdown",
   "metadata": {
    "pycharm": {
     "name": "#%% md\n"
    }
   },
   "source": [
    "#### Third approach\n",
    "And finally we can use chain rule! \n",
    "let $ F = AS $ \n",
    "\n",
    "**Find**\n",
    "$$\n",
    "\\frac{dJ}{dF} =  \n",
    "$$ \n",
    "and \n",
    "$$\n",
    "\\frac{dF}{dS} =  \n",
    "$$ \n",
    "(the shape should be $ NM \\times RM )$.\n",
    "\n",
    "Now it is easy do get desired gradients:\n",
    "$$\n",
    "\\frac{dJ}{dS} =  \n",
    "$$ "
   ]
  },
  {
   "cell_type": "markdown",
   "metadata": {
    "collapsed": true,
    "jupyter": {
     "outputs_hidden": true
    },
    "pycharm": {
     "name": "#%% md\n"
    }
   },
   "source": [
    "## 2. kNN questions\n",
    "Here come the questions from the assignment0_01. Please, refer to the assignment0_01 to get the context of the questions."
   ]
  },
  {
   "cell_type": "markdown",
   "metadata": {
    "pycharm": {
     "name": "#%% md\n"
    }
   },
   "source": [
    "### Question 1\n",
    "\n",
    "Notice the structured patterns in the distance matrix, where some rows or columns are visible brighter. (Note that with the default color scheme black indicates low distances while white indicates high distances.)\n",
    "\n",
    "- What in the data is the cause behind the distinctly bright rows?\n",
    "- What causes the columns?\n",
    "\n",
    "*Your Answer:*\n",
    "\n",
    "- Яркая строка означает, что тестовая картинка цифры, соответствующая этой строке, не похожа на цифры из обучающей выборки. Такое может быть, если нам попалась слишком плохо написанная цифра или искаженное изображение.\n",
    "- Яркий столбец означает, что цифра из обучающей выборки не похожа на цифры из тестовой выборки. Опять-таки, в обучающей выборке нам попалась плохо изображенная цифра."
   ]
  },
  {
   "cell_type": "markdown",
   "metadata": {
    "pycharm": {
     "name": "#%% md\n"
    }
   },
   "source": [
    "### Question 2\n",
    "\n",
    "We can also use other distance metrics such as L1 distance.\n",
    "For pixel values $p_{ij}^{(k)}$ at location $(i,j)$ of some image $I_k$, \n",
    "\n",
    "the mean $\\mu$ across all pixels over all images is $$\\mu=\\frac{1}{nhw}\\sum_{k=1}^n\\sum_{i=1}^{h}\\sum_{j=1}^{w}p_{ij}^{(k)}$$\n",
    "And the pixel-wise mean $\\mu_{ij}$ across all images is \n",
    "$$\\mu_{ij}=\\frac{1}{n}\\sum_{k=1}^np_{ij}^{(k)}.$$\n",
    "The general standard deviation $\\sigma$ and pixel-wise standard deviation $\\sigma_{ij}$ is defined similarly.\n",
    "\n",
    "Which of the following preprocessing steps will not change the performance of a Nearest Neighbor classifier that uses L1 distance? Select all that apply.\n",
    "1. Subtracting the mean $\\mu$ ($\\tilde{p}_{ij}^{(k)}=p_{ij}^{(k)}-\\mu$.)\n",
    "2. Subtracting the per pixel mean $\\mu_{ij}$  ($\\tilde{p}_{ij}^{(k)}=p_{ij}^{(k)}-\\mu_{ij}$.)\n",
    "3. Subtracting the mean $\\mu$ and dividing by the standard deviation $\\sigma$.\n",
    "4. Subtracting the pixel-wise mean $\\mu_{ij}$ and dividing by the pixel-wise standard deviation $\\sigma_{ij}$.\n",
    "5. Rotating the coordinate axes of the data.\n",
    "\n",
    "*Your Answer:* 1, 2, 3, 5\n",
    "\n",
    "*Your Explanation:*\n",
    "1. Рассмотрим $I_{k_1}$ и $I_{k_2}$.\n",
    "Тогда $||I_{k_1} - I_{k_2}||_1 = \\sum_{i=1}^h\\sum_{j=1}^w|p_{ij}^{(k_1)} - p_{ij}^{(k_2)}| = \\sum_{i=1}^h\\sum_{j=1}^w|(p_{ij}^{(k_1)} - \\mu)  - (p_{ij}^{(k_2)} - \\mu)| = \\sum_{i=1}^h\\sum_{j=1}^w|(\\tilde{p}_{ij}^{(k_1)})  - (\\tilde{p}_{ij}^{(k_2)})|$.\n",
    "Как мы видим, расстояние между изображениями не изменилось.\n",
    "2. Если вычесть $\\mu_{ij}$ из каждого пикселя, то ничего не изменится, как в первом пункте. То есть расстояния не изменились.\n",
    "3. В этом случае вообще ничего не изменится, так как $|\\tilde{p}_{ij}^{(k_1)} - \\tilde{p}_{ij}^{(k_2)}| = \\sigma|\\frac{\\tilde{p}_{ij}^{(k_1)}}{\\sigma} - \\frac{\\tilde{p}_{ij}^{(k_2)}}{\\sigma}|$. То есть итоговое расстояние между изображениями будет домножено константу $\\sigma$ (просто вынести ее из суммы). Но на глобальное отношение $||I_{k_1} - I_{k_2}||_1$ оно влиять не будет.\n",
    "4. В этом же случае глобальное отношение $L_1$ изменится. Мы для каждого пикселя вычитаем среднее и делим на его дисперсию. А значит вынести ничего нельзя. Мы фактически нормируем все данные, делая каждый пиксель \"равным\" остальным. Также надо отметить, что данный способ является предпочтительным при препроцессинге данных.\n",
    "5. Это вообще бесполезный способ."
   ]
  },
  {
   "cell_type": "markdown",
   "metadata": {
    "pycharm": {
     "name": "#%% md\n"
    }
   },
   "source": [
    "## Question 3\n",
    "\n",
    "Which of the following statements about $k$-Nearest Neighbor ($k$-NN) are true in a classification setting, and for all $k$? Select all that apply.\n",
    "1. The decision boundary (hyperplane between classes in feature space) of the k-NN classifier is linear.\n",
    "2. The training error of a 1-NN will always be lower than that of 5-NN.\n",
    "3. The test error of a 1-NN will always be lower than that of a 5-NN.\n",
    "4. The time needed to classify a test example with the k-NN classifier grows with the size of the training set.\n",
    "5. None of the above.\n",
    "\n",
    "*Your Answer:* 2, 4\n",
    "\n",
    "\n",
    "*Your Explanation:*\n",
    "1. Это не так. Фактически это диаграмма Вороного, а она ломаная.\n",
    "2. Так как мы знаем класс самого объекта из тренировочной выборки, то в 1-NN мы просто его класс и получим, то есть ошибка нулевая. Но если вокруг него будет 4 ближайших элемента из других классов, то 5-NN ошибется. Значит утверждение верно.\n",
    "3. Тут вообще может быть все что угодно. Если ближайший к рассматриваемому элементу лежит в другом классе, а остальные 4 в том же классе, то 5-NN сделает правильное предсказание, а 1-NN нет.\n",
    "4. Конечно, ведь необходимо посчитать всевозможные расстояния между тестовой и тренировочной выборками.\n",
    "5. 2 и 4 являются верными утверждениями\n",
    "\n",
    "\n"
   ]
  },
  {
   "cell_type": "code",
   "execution_count": null,
   "outputs": [],
   "source": [],
   "metadata": {
    "collapsed": false,
    "pycharm": {
     "name": "#%%\n"
    }
   }
  }
 ],
 "metadata": {
  "kernelspec": {
   "display_name": "mipt",
   "language": "python",
   "name": "mipt"
  },
  "language_info": {
   "codemirror_mode": {
    "name": "ipython",
    "version": 3
   },
   "file_extension": ".py",
   "mimetype": "text/x-python",
   "name": "python",
   "nbconvert_exporter": "python",
   "pygments_lexer": "ipython3",
   "version": "3.9.5"
  }
 },
 "nbformat": 4,
 "nbformat_minor": 4
}